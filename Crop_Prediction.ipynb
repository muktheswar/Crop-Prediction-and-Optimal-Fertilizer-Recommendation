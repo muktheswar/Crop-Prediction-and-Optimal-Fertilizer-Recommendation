{
 "cells": [
  {
   "cell_type": "markdown",
   "metadata": {},
   "source": [
    "# Most Suitable Crop Prediction"
   ]
  },
  {
   "cell_type": "code",
   "execution_count": 1,
   "metadata": {
    "id": "5nOn6taSgf7-"
   },
   "outputs": [],
   "source": [
    "#importing the required libraries\n",
    "import pandas as pd\n",
    "import numpy as np\n",
    "from sklearn.model_selection import train_test_split\n",
    "import matplotlib.pyplot as plt\n",
    "%matplotlib inline"
   ]
  },
  {
   "cell_type": "code",
   "execution_count": 2,
   "metadata": {
    "colab": {
     "base_uri": "https://localhost:8080/"
    },
    "id": "gBGxmnNvh3eT",
    "outputId": "3ba07a3b-4129-4994-b08a-d3809259bc8f"
   },
   "outputs": [
    {
     "name": "stdout",
     "output_type": "stream",
     "text": [
      "   temperature   humidity        ph    rainfall label\n",
      "0    20.879744  82.002744  6.502985  202.935536  rice\n"
     ]
    }
   ],
   "source": [
    "#Reading the csv file\n",
    "data=pd.read_csv('cpdata.csv')\n",
    "print(data.head(1))"
   ]
  },
  {
   "cell_type": "code",
   "execution_count": 3,
   "metadata": {
    "colab": {
     "base_uri": "https://localhost:8080/",
     "height": 288
    },
    "id": "yNN6_AOsy6fc",
    "outputId": "54d446ba-b23c-4d22-a1d4-dd3ec3892e42"
   },
   "outputs": [
    {
     "data": {
      "text/html": [
       "<div>\n",
       "<style scoped>\n",
       "    .dataframe tbody tr th:only-of-type {\n",
       "        vertical-align: middle;\n",
       "    }\n",
       "\n",
       "    .dataframe tbody tr th {\n",
       "        vertical-align: top;\n",
       "    }\n",
       "\n",
       "    .dataframe thead th {\n",
       "        text-align: right;\n",
       "    }\n",
       "</style>\n",
       "<table border=\"1\" class=\"dataframe\">\n",
       "  <thead>\n",
       "    <tr style=\"text-align: right;\">\n",
       "      <th></th>\n",
       "      <th>temperature</th>\n",
       "      <th>humidity</th>\n",
       "      <th>ph</th>\n",
       "      <th>rainfall</th>\n",
       "    </tr>\n",
       "  </thead>\n",
       "  <tbody>\n",
       "    <tr>\n",
       "      <th>count</th>\n",
       "      <td>3100.000000</td>\n",
       "      <td>3100.000000</td>\n",
       "      <td>3100.000000</td>\n",
       "      <td>3100.000000</td>\n",
       "    </tr>\n",
       "    <tr>\n",
       "      <th>mean</th>\n",
       "      <td>27.108466</td>\n",
       "      <td>66.005312</td>\n",
       "      <td>6.368913</td>\n",
       "      <td>110.213031</td>\n",
       "    </tr>\n",
       "    <tr>\n",
       "      <th>std</th>\n",
       "      <td>7.566308</td>\n",
       "      <td>24.007713</td>\n",
       "      <td>0.809477</td>\n",
       "      <td>64.048562</td>\n",
       "    </tr>\n",
       "    <tr>\n",
       "      <th>min</th>\n",
       "      <td>8.825675</td>\n",
       "      <td>10.034048</td>\n",
       "      <td>3.504752</td>\n",
       "      <td>20.211267</td>\n",
       "    </tr>\n",
       "    <tr>\n",
       "      <th>25%</th>\n",
       "      <td>22.810495</td>\n",
       "      <td>55.244920</td>\n",
       "      <td>5.895343</td>\n",
       "      <td>64.909095</td>\n",
       "    </tr>\n",
       "    <tr>\n",
       "      <th>50%</th>\n",
       "      <td>26.102848</td>\n",
       "      <td>68.980529</td>\n",
       "      <td>6.342518</td>\n",
       "      <td>97.057093</td>\n",
       "    </tr>\n",
       "    <tr>\n",
       "      <th>75%</th>\n",
       "      <td>29.365644</td>\n",
       "      <td>84.446524</td>\n",
       "      <td>6.841616</td>\n",
       "      <td>141.210784</td>\n",
       "    </tr>\n",
       "    <tr>\n",
       "      <th>max</th>\n",
       "      <td>54.986760</td>\n",
       "      <td>99.981876</td>\n",
       "      <td>9.935091</td>\n",
       "      <td>397.315380</td>\n",
       "    </tr>\n",
       "  </tbody>\n",
       "</table>\n",
       "</div>"
      ],
      "text/plain": [
       "       temperature     humidity           ph     rainfall\n",
       "count  3100.000000  3100.000000  3100.000000  3100.000000\n",
       "mean     27.108466    66.005312     6.368913   110.213031\n",
       "std       7.566308    24.007713     0.809477    64.048562\n",
       "min       8.825675    10.034048     3.504752    20.211267\n",
       "25%      22.810495    55.244920     5.895343    64.909095\n",
       "50%      26.102848    68.980529     6.342518    97.057093\n",
       "75%      29.365644    84.446524     6.841616   141.210784\n",
       "max      54.986760    99.981876     9.935091   397.315380"
      ]
     },
     "execution_count": 3,
     "metadata": {},
     "output_type": "execute_result"
    }
   ],
   "source": [
    "data.describe()"
   ]
  },
  {
   "cell_type": "code",
   "execution_count": 4,
   "metadata": {
    "colab": {
     "base_uri": "https://localhost:8080/",
     "height": 374
    },
    "id": "DDbc9A7Yy9HY",
    "outputId": "9003b3f5-008d-414f-fe0b-eb0b3c216582"
   },
   "outputs": [
    {
     "data": {
      "text/plain": [
       "(array([  36.,  145.,  561., 1093.,  790.,  220.,   46.,   73.,   42.,\n",
       "          94.]),\n",
       " array([ 8.82567475, 13.44178325, 18.05789175, 22.67400026, 27.29010876,\n",
       "        31.90621726, 36.52232577, 41.13843427, 45.75454277, 50.37065128,\n",
       "        54.98675978]),\n",
       " <a list of 10 Patch objects>)"
      ]
     },
     "execution_count": 4,
     "metadata": {},
     "output_type": "execute_result"
    },
    {
     "data": {
      "image/png": "[encoded data removed]",
      "text/plain": [
       "<Figure size 432x288 with 1 Axes>"
      ]
     },
     "metadata": {
      "needs_background": "light"
     },
     "output_type": "display_data"
    }
   ],
   "source": [
    "counts, bins = np.histogram(data.iloc[:,0])\n",
    "plt.hist(bins[:-1], bins, weights=counts)"
   ]
  },
  {
   "cell_type": "code",
   "execution_count": 5,
   "metadata": {
    "colab": {
     "base_uri": "https://localhost:8080/",
     "height": 355
    },
    "id": "Zaj0O9F1zh3b",
    "outputId": "4e3189fd-929b-45f8-9ecf-700482df780b"
   },
   "outputs": [
    {
     "data": {
      "text/plain": [
       "(array([303.,  97.,  22.,  82., 261., 530., 370., 444., 557., 434.]),\n",
       " array([10.0340484 , 19.02883116, 28.02361392, 37.01839668, 46.01317944,\n",
       "        55.0079622 , 64.00274497, 72.99752773, 81.99231049, 90.98709325,\n",
       "        99.98187601]),\n",
       " <a list of 10 Patch objects>)"
      ]
     },
     "execution_count": 5,
     "metadata": {},
     "output_type": "execute_result"
    },
    {
     "data": {
      "image/png": "[encoded data removed]",
      "text/plain": [
       "<Figure size 432x288 with 1 Axes>"
      ]
     },
     "metadata": {
      "needs_background": "light"
     },
     "output_type": "display_data"
    }
   ],
   "source": [
    "counts, bins = np.histogram(data.iloc[:,1])\n",
    "plt.hist(bins[:-1], bins, weights=counts)"
   ]
  },
  {
   "cell_type": "code",
   "execution_count": 6,
   "metadata": {
    "colab": {
     "base_uri": "https://localhost:8080/",
     "height": 374
    },
    "id": "Eluub9a8zkLO",
    "outputId": "cb9da5ee-afb8-49da-9aa2-f09a3139acd7"
   },
   "outputs": [
    {
     "data": {
      "text/plain": [
       "(array([  10.,  107.,  180.,  752., 1104.,  624.,  248.,   48.,   20.,\n",
       "           7.]),\n",
       " array([3.50475231, 4.14778616, 4.79082   , 5.43385384, 6.07688768,\n",
       "        6.71992152, 7.36295536, 8.00598921, 8.64902305, 9.29205689,\n",
       "        9.93509073]),\n",
       " <a list of 10 Patch objects>)"
      ]
     },
     "execution_count": 6,
     "metadata": {},
     "output_type": "execute_result"
    },
    {
     "data": {
      "image/png": "[encoded data removed]",
      "text/plain": [
       "<Figure size 432x288 with 1 Axes>"
      ]
     },
     "metadata": {
      "needs_background": "light"
     },
     "output_type": "display_data"
    }
   ],
   "source": [
    "counts, bins = np.histogram(data.iloc[:,2])\n",
    "plt.hist(bins[:-1], bins, weights=counts)"
   ]
  },
  {
   "cell_type": "code",
   "execution_count": 7,
   "metadata": {
    "colab": {
     "base_uri": "https://localhost:8080/"
    },
    "id": "sadWdtudh6Q3",
    "outputId": "b94a1d6a-b3b7-49f9-8b01-9fbe1675b922"
   },
   "outputs": [
    {
     "name": "stdout",
     "output_type": "stream",
     "text": [
      "The data present in one row of the dataset is\n",
      "   temperature   humidity        ph    rainfall  Black gram  Chickpea  \\\n",
      "0    20.879744  82.002744  6.502985  202.935536           0         0   \n",
      "\n",
      "   Coconut  Coffee  Cotton  Ground Nut  ...  maize  mango  millet  muskmelon  \\\n",
      "0        0       0       0           0  ...      0      0       0          0   \n",
      "\n",
      "   orange  papaya  pomegranate  rice  watermelon  wheat  \n",
      "0       0       0            0     1           0      0  \n",
      "\n",
      "[1 rows x 34 columns]\n"
     ]
    }
   ],
   "source": [
    "#Creating dummy variable for target i.e label\n",
    "label= pd.get_dummies(data.label).iloc[: , 1:]\n",
    "data= pd.concat([data,label],axis=1)\n",
    "data.drop('label', axis=1,inplace=True)\n",
    "print('The data present in one row of the dataset is')\n",
    "print(data.head(1))\n",
    "train=data.iloc[:, 0:4].values\n",
    "test=data.iloc[: ,4:].values"
   ]
  },
  {
   "cell_type": "code",
   "execution_count": 8,
   "metadata": {
    "id": "yhMQi9Tfh8KR"
   },
   "outputs": [],
   "source": [
    "#Dividing the data into training and test set\n",
    "X_train,X_test,y_train,y_test=train_test_split(train,test,test_size=0.3)"
   ]
  },
  {
   "cell_type": "code",
   "execution_count": 9,
   "metadata": {
    "id": "VopSYZsTh9l3"
   },
   "outputs": [],
   "source": [
    "from sklearn.preprocessing import StandardScaler\n",
    "sc = StandardScaler()\n",
    "X_train = sc.fit_transform(X_train)\n",
    "X_test = sc.transform(X_test)"
   ]
  },
  {
   "cell_type": "code",
   "execution_count": 10,
   "metadata": {
    "id": "DmLminbYh-rl"
   },
   "outputs": [],
   "source": [
    "#Importing Decision Tree classifier\n",
    "from sklearn.tree import DecisionTreeRegressor\n",
    "clf=DecisionTreeRegressor()"
   ]
  },
  {
   "cell_type": "code",
   "execution_count": 12,
   "metadata": {
    "colab": {
     "base_uri": "https://localhost:8080/"
    },
    "id": "15Au-Qb4iBZX",
    "outputId": "384b21f7-88a2-470f-e9c6-439f1258bade"
   },
   "outputs": [
    {
     "name": "stdout",
     "output_type": "stream",
     "text": [
      "The accuracy of this model is:  90.53763440860216\n"
     ]
    }
   ],
   "source": [
    "from sklearn.metrics import accuracy_score\n",
    "# Finding the accuracy of the model\n",
    "a=accuracy_score(y_test,pred)\n",
    "print(\"The accuracy of this model is: \", a*100)"
   ]
  },
  {
   "cell_type": "code",
   "execution_count": 13,
   "metadata": {},
   "outputs": [],
   "source": [
    "import pickle\n",
    "pickle.dump(clf,open('decision_tree_regression_model.pkl','wb'))"
   ]
  },
  {
   "cell_type": "code",
   "execution_count": 14,
   "metadata": {
    "colab": {
     "base_uri": "https://localhost:8080/"
    },
    "id": "gU496U7Ri0Ie",
    "outputId": "5c3bd86a-c592-4845-a284-3cd914dfb8c1"
   },
   "outputs": [
    {
     "data": {
      "text/plain": [
       "array([0., 0., 0., 0., 0., 0., 0., 0., 0., 0., 0., 0., 0., 1., 0., 0., 0.,\n",
       "       0., 0., 0., 0., 0., 0., 0., 0., 0., 0., 0., 0., 0.])"
      ]
     },
     "execution_count": 14,
     "metadata": {},
     "output_type": "execute_result"
    }
   ],
   "source": [
    "np.argmax(pred[0])\n",
    "pred[0]"
   ]
  },
  {
   "cell_type": "code",
   "execution_count": 15,
   "metadata": {
    "colab": {
     "base_uri": "https://localhost:8080/",
     "height": 235
    },
    "id": "zP-pjkZjm-Om",
    "outputId": "29bef469-aad4-44b7-c8ef-f5f5348a687a"
   },
   "outputs": [
    {
     "data": {
      "text/html": [
       "<div>\n",
       "<style scoped>\n",
       "    .dataframe tbody tr th:only-of-type {\n",
       "        vertical-align: middle;\n",
       "    }\n",
       "\n",
       "    .dataframe tbody tr th {\n",
       "        vertical-align: top;\n",
       "    }\n",
       "\n",
       "    .dataframe thead th {\n",
       "        text-align: right;\n",
       "    }\n",
       "</style>\n",
       "<table border=\"1\" class=\"dataframe\">\n",
       "  <thead>\n",
       "    <tr style=\"text-align: right;\">\n",
       "      <th></th>\n",
       "      <th>temperature</th>\n",
       "      <th>humidity</th>\n",
       "      <th>ph</th>\n",
       "      <th>rainfall</th>\n",
       "      <th>Black gram</th>\n",
       "      <th>Chickpea</th>\n",
       "      <th>Coconut</th>\n",
       "      <th>Coffee</th>\n",
       "      <th>Cotton</th>\n",
       "      <th>Ground Nut</th>\n",
       "      <th>...</th>\n",
       "      <th>maize</th>\n",
       "      <th>mango</th>\n",
       "      <th>millet</th>\n",
       "      <th>muskmelon</th>\n",
       "      <th>orange</th>\n",
       "      <th>papaya</th>\n",
       "      <th>pomegranate</th>\n",
       "      <th>rice</th>\n",
       "      <th>watermelon</th>\n",
       "      <th>wheat</th>\n",
       "    </tr>\n",
       "  </thead>\n",
       "  <tbody>\n",
       "    <tr>\n",
       "      <th>0</th>\n",
       "      <td>20.879744</td>\n",
       "      <td>82.002744</td>\n",
       "      <td>6.502985</td>\n",
       "      <td>202.935536</td>\n",
       "      <td>0</td>\n",
       "      <td>0</td>\n",
       "      <td>0</td>\n",
       "      <td>0</td>\n",
       "      <td>0</td>\n",
       "      <td>0</td>\n",
       "      <td>...</td>\n",
       "      <td>0</td>\n",
       "      <td>0</td>\n",
       "      <td>0</td>\n",
       "      <td>0</td>\n",
       "      <td>0</td>\n",
       "      <td>0</td>\n",
       "      <td>0</td>\n",
       "      <td>1</td>\n",
       "      <td>0</td>\n",
       "      <td>0</td>\n",
       "    </tr>\n",
       "    <tr>\n",
       "      <th>1</th>\n",
       "      <td>21.770462</td>\n",
       "      <td>80.319644</td>\n",
       "      <td>7.038096</td>\n",
       "      <td>226.655537</td>\n",
       "      <td>0</td>\n",
       "      <td>0</td>\n",
       "      <td>0</td>\n",
       "      <td>0</td>\n",
       "      <td>0</td>\n",
       "      <td>0</td>\n",
       "      <td>...</td>\n",
       "      <td>0</td>\n",
       "      <td>0</td>\n",
       "      <td>0</td>\n",
       "      <td>0</td>\n",
       "      <td>0</td>\n",
       "      <td>0</td>\n",
       "      <td>0</td>\n",
       "      <td>1</td>\n",
       "      <td>0</td>\n",
       "      <td>0</td>\n",
       "    </tr>\n",
       "    <tr>\n",
       "      <th>2</th>\n",
       "      <td>23.004459</td>\n",
       "      <td>82.320763</td>\n",
       "      <td>7.840207</td>\n",
       "      <td>263.964248</td>\n",
       "      <td>0</td>\n",
       "      <td>0</td>\n",
       "      <td>0</td>\n",
       "      <td>0</td>\n",
       "      <td>0</td>\n",
       "      <td>0</td>\n",
       "      <td>...</td>\n",
       "      <td>0</td>\n",
       "      <td>0</td>\n",
       "      <td>0</td>\n",
       "      <td>0</td>\n",
       "      <td>0</td>\n",
       "      <td>0</td>\n",
       "      <td>0</td>\n",
       "      <td>1</td>\n",
       "      <td>0</td>\n",
       "      <td>0</td>\n",
       "    </tr>\n",
       "    <tr>\n",
       "      <th>3</th>\n",
       "      <td>26.491096</td>\n",
       "      <td>80.158363</td>\n",
       "      <td>6.980401</td>\n",
       "      <td>242.864034</td>\n",
       "      <td>0</td>\n",
       "      <td>0</td>\n",
       "      <td>0</td>\n",
       "      <td>0</td>\n",
       "      <td>0</td>\n",
       "      <td>0</td>\n",
       "      <td>...</td>\n",
       "      <td>0</td>\n",
       "      <td>0</td>\n",
       "      <td>0</td>\n",
       "      <td>0</td>\n",
       "      <td>0</td>\n",
       "      <td>0</td>\n",
       "      <td>0</td>\n",
       "      <td>1</td>\n",
       "      <td>0</td>\n",
       "      <td>0</td>\n",
       "    </tr>\n",
       "    <tr>\n",
       "      <th>4</th>\n",
       "      <td>20.130175</td>\n",
       "      <td>81.604873</td>\n",
       "      <td>7.628473</td>\n",
       "      <td>262.717340</td>\n",
       "      <td>0</td>\n",
       "      <td>0</td>\n",
       "      <td>0</td>\n",
       "      <td>0</td>\n",
       "      <td>0</td>\n",
       "      <td>0</td>\n",
       "      <td>...</td>\n",
       "      <td>0</td>\n",
       "      <td>0</td>\n",
       "      <td>0</td>\n",
       "      <td>0</td>\n",
       "      <td>0</td>\n",
       "      <td>0</td>\n",
       "      <td>0</td>\n",
       "      <td>1</td>\n",
       "      <td>0</td>\n",
       "      <td>0</td>\n",
       "    </tr>\n",
       "  </tbody>\n",
       "</table>\n",
       "<p>5 rows × 34 columns</p>\n",
       "</div>"
      ],
      "text/plain": [
       "   temperature   humidity        ph    rainfall  Black gram  Chickpea  \\\n",
       "0    20.879744  82.002744  6.502985  202.935536           0         0   \n",
       "1    21.770462  80.319644  7.038096  226.655537           0         0   \n",
       "2    23.004459  82.320763  7.840207  263.964248           0         0   \n",
       "3    26.491096  80.158363  6.980401  242.864034           0         0   \n",
       "4    20.130175  81.604873  7.628473  262.717340           0         0   \n",
       "\n",
       "   Coconut  Coffee  Cotton  Ground Nut  ...  maize  mango  millet  muskmelon  \\\n",
       "0        0       0       0           0  ...      0      0       0          0   \n",
       "1        0       0       0           0  ...      0      0       0          0   \n",
       "2        0       0       0           0  ...      0      0       0          0   \n",
       "3        0       0       0           0  ...      0      0       0          0   \n",
       "4        0       0       0           0  ...      0      0       0          0   \n",
       "\n",
       "   orange  papaya  pomegranate  rice  watermelon  wheat  \n",
       "0       0       0            0     1           0      0  \n",
       "1       0       0            0     1           0      0  \n",
       "2       0       0            0     1           0      0  \n",
       "3       0       0            0     1           0      0  \n",
       "4       0       0            0     1           0      0  \n",
       "\n",
       "[5 rows x 34 columns]"
      ]
     },
     "execution_count": 15,
     "metadata": {},
     "output_type": "execute_result"
    }
   ],
   "source": [
    "data_copy = data\n",
    "data.head()"
   ]
  },
  {
   "cell_type": "code",
   "execution_count": 16,
   "metadata": {
    "id": "G_JD7LR4nSWg"
   },
   "outputs": [],
   "source": [
    "# SVM"
   ]
  },
  {
   "cell_type": "code",
   "execution_count": 17,
   "metadata": {
    "colab": {
     "base_uri": "https://localhost:8080/"
    },
    "id": "auRvjR7rxzlA",
    "outputId": "d205a1dc-744b-4d67-f31d-db5d920a7100"
   },
   "outputs": [
    {
     "name": "stdout",
     "output_type": "stream",
     "text": [
      "0.863225806451613\n"
     ]
    }
   ],
   "source": [
    "# importing necessary libraries \n",
    "from sklearn import datasets \n",
    "from sklearn.metrics import confusion_matrix \n",
    "from sklearn.model_selection import train_test_split \n",
    "  \n",
    "#Reading the csv file\n",
    "data=pd.read_csv('cpdata.csv')\n",
    "\n",
    "# X -> features, y -> label \n",
    "X = data.iloc[:,0:4]\n",
    "y = data.iloc[:,4]\n",
    "  \n",
    "# dividing X, y into train and test data \n",
    "X_train, X_test, y_train, y_test = train_test_split(X, y, random_state = 0) \n",
    "  \n",
    "# training a linear SVM classifier \n",
    "from sklearn.svm import SVC \n",
    "svm_model_linear = SVC(kernel = 'linear', C = 1).fit(X_train, y_train) \n",
    "svm_predictions = svm_model_linear.predict(X_test) \n",
    "  \n",
    "# model accuracy for X_test   \n",
    "accuracy = svm_model_linear.score(X_test, y_test) \n",
    "  \n",
    "# creating a confusion matrix \n",
    "cm = confusion_matrix(y_test, svm_predictions) \n",
    "\n",
    "print(accuracy)"
   ]
  },
  {
   "cell_type": "code",
   "execution_count": 18,
   "metadata": {},
   "outputs": [
    {
     "data": {
      "text/plain": [
       "array(['watermelon'], dtype=object)"
      ]
     },
     "execution_count": 18,
     "metadata": {},
     "output_type": "execute_result"
    }
   ],
   "source": [
    "svm_model_linear.predict([[26.986037,89.413849,6.260839,58.548767]])"
   ]
  },
  {
   "cell_type": "code",
   "execution_count": 19,
   "metadata": {},
   "outputs": [],
   "source": [
    "import pickle\n",
    "pickle.dump(svm_model_linear,open('svm_model_linear.pkl','wb'))"
   ]
  },
  {
   "cell_type": "code",
   "execution_count": 22,
   "metadata": {},
   "outputs": [
    {
     "data": {
      "text/plain": [
       "'watermelon'"
      ]
     },
     "execution_count": 22,
     "metadata": {},
     "output_type": "execute_result"
    }
   ],
   "source": [
    "from joblib import dump, load\n",
    "\n",
    "loaded_svm = load(open(\"svm_model_linear.pkl\", \"rb\"))\n",
    "loaded_svm.predict([[26.986037,89.413849,6.260839,58.548767]])[0]"
   ]
  },
  {
   "cell_type": "code",
   "execution_count": null,
   "metadata": {
    "id": "kgHiUyHtxzvr"
   },
   "outputs": [],
   "source": [
    "# Neural Network"
   ]
  },
  {
   "cell_type": "code",
   "execution_count": 20,
   "metadata": {
    "id": "ta5DLVeYoX0R"
   },
   "outputs": [
    {
     "name": "stderr",
     "output_type": "stream",
     "text": [
      "Using TensorFlow backend.\n"
     ]
    }
   ],
   "source": [
    "from keras.models import Sequential\n",
    "from keras.layers import Dense\n",
    "from keras.wrappers.scikit_learn import KerasClassifier\n",
    "from keras.utils import np_utils\n",
    "from sklearn.model_selection import cross_val_score\n",
    "from sklearn.model_selection import KFold\n",
    "from sklearn.preprocessing import LabelEncoder\n",
    "from sklearn.pipeline import Pipeline"
   ]
  },
  {
   "cell_type": "code",
   "execution_count": 21,
   "metadata": {
    "id": "1ficKOTSowI9"
   },
   "outputs": [],
   "source": [
    "# load dataset\n",
    "dataframe = pd.read_csv(\"cpdata.csv\")\n",
    "dataset = dataframe.values\n",
    "X = dataset[:,0:4].astype(float)\n",
    "Y = dataset[:,4]"
   ]
  },
  {
   "cell_type": "code",
   "execution_count": 22,
   "metadata": {
    "id": "ZwDd84s8pirh"
   },
   "outputs": [],
   "source": [
    "# encode class values as integers\n",
    "encoder = LabelEncoder()\n",
    "encoder.fit(Y)\n",
    "encoded_Y = encoder.transform(Y)\n",
    "# convert integers to dummy variables (i.e. one hot encoded)\n",
    "dummy_y = np_utils.to_categorical(encoded_Y)"
   ]
  },
  {
   "cell_type": "code",
   "execution_count": 23,
   "metadata": {
    "colab": {
     "base_uri": "https://localhost:8080/"
    },
    "id": "sutR3sSIq8kp",
    "outputId": "92e31e14-074d-49b1-ec7f-7296cb9c9e07"
   },
   "outputs": [
    {
     "data": {
      "text/plain": [
       "(3100, 31)"
      ]
     },
     "execution_count": 23,
     "metadata": {},
     "output_type": "execute_result"
    }
   ],
   "source": [
    "dummy_y.shape"
   ]
  },
  {
   "cell_type": "code",
   "execution_count": 24,
   "metadata": {
    "id": "I91XthpSpjf9"
   },
   "outputs": [],
   "source": [
    "# define baseline model\n",
    "def baseline_model():\n",
    "  # create model\n",
    "  model = Sequential()\n",
    "  model.add(Dense(64, input_dim=4, activation='relu'))\n",
    "  model.add(Dense(128,activation='relu'))\n",
    "  model.add(Dense(256,activation='relu'))\n",
    "  model.add(Dense(31, activation='softmax'))\n",
    "  # Compile model\n",
    "  model.compile(loss='categorical_crossentropy', optimizer='adam', metrics=['accuracy'])\n",
    "  return model"
   ]
  },
  {
   "cell_type": "code",
   "execution_count": 25,
   "metadata": {
    "colab": {
     "base_uri": "https://localhost:8080/"
    },
    "id": "4Kvqy5KRqiyZ",
    "outputId": "bb2a44e5-3884-4153-9d00-20dfc78a40d5"
   },
   "outputs": [
    {
     "name": "stdout",
     "output_type": "stream",
     "text": [
      "WARNING:tensorflow:From C:\\Softwares\\Anaconda3\\envs\\crop_pred\\lib\\site-packages\\keras\\backend\\tensorflow_backend.py:422: The name tf.global_variables is deprecated. Please use tf.compat.v1.global_variables instead.\n",
      "\n",
      "Epoch 1/20\n",
      "1550/1550 [==============================] - 0s 296us/step - loss: 2.9093 - accuracy: 0.2819\n",
      "Epoch 2/20\n",
      "1550/1550 [==============================] - 0s 227us/step - loss: 1.6678 - accuracy: 0.4297\n",
      "Epoch 3/20\n",
      "1550/1550 [==============================] - 0s 232us/step - loss: 1.4637 - accuracy: 0.4871\n",
      "Epoch 4/20\n",
      "1550/1550 [==============================] - 0s 195us/step - loss: 1.3157 - accuracy: 0.5071\n",
      "Epoch 5/20\n",
      "1550/1550 [==============================] - 0s 206us/step - loss: 1.2308 - accuracy: 0.5361\n",
      "Epoch 6/20\n",
      "1550/1550 [==============================] - ETA: 0s - loss: 1.1928 - accuracy: 0.55 - 0s 224us/step - loss: 1.1796 - accuracy: 0.5581\n",
      "Epoch 7/20\n",
      "1550/1550 [==============================] - 0s 195us/step - loss: 1.1240 - accuracy: 0.5703\n",
      "Epoch 8/20\n",
      "1550/1550 [==============================] - 0s 204us/step - loss: 1.0385 - accuracy: 0.6077\n",
      "Epoch 9/20\n",
      "1550/1550 [==============================] - 0s 223us/step - loss: 0.9925 - accuracy: 0.6323\n",
      "Epoch 10/20\n",
      "1550/1550 [==============================] - 0s 201us/step - loss: 0.9385 - accuracy: 0.6426\n",
      "Epoch 11/20\n",
      "1550/1550 [==============================] - 0s 213us/step - loss: 0.9058 - accuracy: 0.6516\n",
      "Epoch 12/20\n",
      "1550/1550 [==============================] - 0s 243us/step - loss: 0.8955 - accuracy: 0.67030s - loss: 0.7861 - accu\n",
      "Epoch 13/20\n",
      "1550/1550 [==============================] - 0s 192us/step - loss: 0.8005 - accuracy: 0.6794\n",
      "Epoch 14/20\n",
      "1550/1550 [==============================] - 0s 200us/step - loss: 0.7698 - accuracy: 0.6929\n",
      "Epoch 15/20\n",
      "1550/1550 [==============================] - 0s 233us/step - loss: 0.7895 - accuracy: 0.6916\n",
      "Epoch 16/20\n",
      "1550/1550 [==============================] - 0s 200us/step - loss: 0.7586 - accuracy: 0.6929\n",
      "Epoch 17/20\n",
      "1550/1550 [==============================] - 0s 199us/step - loss: 0.7302 - accuracy: 0.7148\n",
      "Epoch 18/20\n",
      "1550/1550 [==============================] - 0s 243us/step - loss: 0.7065 - accuracy: 0.7297\n",
      "Epoch 19/20\n",
      "1550/1550 [==============================] - 0s 193us/step - loss: 0.6986 - accuracy: 0.7194\n",
      "Epoch 20/20\n",
      "1550/1550 [==============================] - 0s 200us/step - loss: 0.7032 - accuracy: 0.7219\n",
      "1550/1550 [==============================] - 0s 117us/step\n",
      "Epoch 1/20\n",
      "1550/1550 [==============================] - 0s 320us/step - loss: 2.9460 - accuracy: 0.2613\n",
      "Epoch 2/20\n",
      "1550/1550 [==============================] - 0s 193us/step - loss: 1.6648 - accuracy: 0.4381\n",
      "Epoch 3/20\n",
      "1550/1550 [==============================] - 0s 194us/step - loss: 1.4285 - accuracy: 0.4845\n",
      "Epoch 4/20\n",
      "1550/1550 [==============================] - 0s 253us/step - loss: 1.3296 - accuracy: 0.5058\n",
      "Epoch 5/20\n",
      "1550/1550 [==============================] - 0s 196us/step - loss: 1.2368 - accuracy: 0.5477\n",
      "Epoch 6/20\n",
      "1550/1550 [==============================] - 0s 196us/step - loss: 1.1755 - accuracy: 0.5606\n",
      "Epoch 7/20\n",
      "1550/1550 [==============================] - 0s 257us/step - loss: 1.1317 - accuracy: 0.5735\n",
      "Epoch 8/20\n",
      "1550/1550 [==============================] - 0s 197us/step - loss: 1.0615 - accuracy: 0.6039\n",
      "Epoch 9/20\n",
      "1550/1550 [==============================] - 0s 199us/step - loss: 1.0085 - accuracy: 0.6232\n",
      "Epoch 10/20\n",
      "1550/1550 [==============================] - 0s 262us/step - loss: 0.9494 - accuracy: 0.65940s - loss: 0.9499 - accura\n",
      "Epoch 11/20\n",
      "1550/1550 [==============================] - 0s 195us/step - loss: 0.9021 - accuracy: 0.6626\n",
      "Epoch 12/20\n",
      "1550/1550 [==============================] - 0s 204us/step - loss: 0.8530 - accuracy: 0.6755\n",
      "Epoch 13/20\n",
      "1550/1550 [==============================] - 0s 254us/step - loss: 0.8337 - accuracy: 0.6910\n",
      "Epoch 14/20\n",
      "1550/1550 [==============================] - 0s 196us/step - loss: 0.8016 - accuracy: 0.6974\n",
      "Epoch 15/20\n",
      "1550/1550 [==============================] - 0s 200us/step - loss: 0.7541 - accuracy: 0.7071\n",
      "Epoch 16/20\n",
      "1550/1550 [==============================] - 0s 246us/step - loss: 0.7675 - accuracy: 0.7077\n",
      "Epoch 17/20\n",
      "1550/1550 [==============================] - 0s 201us/step - loss: 0.7526 - accuracy: 0.71480s - loss: 0.7531 - accuracy: 0.71\n",
      "Epoch 18/20\n",
      "1550/1550 [==============================] - 0s 215us/step - loss: 0.7470 - accuracy: 0.71230s - loss: 0.7875 - accura\n",
      "Epoch 19/20\n",
      "1550/1550 [==============================] - 0s 246us/step - loss: 0.7790 - accuracy: 0.7052\n",
      "Epoch 20/20\n",
      "1550/1550 [==============================] - 0s 218us/step - loss: 0.6932 - accuracy: 0.7194\n",
      "1550/1550 [==============================] - 0s 99us/step\n",
      "Baseline: 73.10% (1.23%)\n"
     ]
    }
   ],
   "source": [
    "estimator = KerasClassifier(build_fn=baseline_model, epochs=20, batch_size=5, verbose=1)\n",
    "kfold = KFold(n_splits=2, shuffle=True)\n",
    "results = cross_val_score(estimator, X, dummy_y, cv=kfold)\n",
    "print(\"Baseline: %.2f%% (%.2f%%)\" % (results.mean()*100, results.std()*100))"
   ]
  },
  {
   "cell_type": "code",
   "execution_count": null,
   "metadata": {
    "id": "vMOPy54nvdRh"
   },
   "outputs": [],
   "source": []
  },
  {
   "cell_type": "markdown",
   "metadata": {
    "id": "AIwfalBi0orE"
   },
   "source": [
    "# Input "
   ]
  },
  {
   "cell_type": "code",
   "execution_count": 28,
   "metadata": {
    "id": "-vGZAMnU1Cmx"
   },
   "outputs": [],
   "source": [
    "# 20.879744  82.002744  6.502985  202.935536  orange\n",
    "# 26.491096\t80.158363\t6.980401\t242.864034 orange"
   ]
  },
  {
   "cell_type": "code",
   "execution_count": 27,
   "metadata": {
    "colab": {
     "base_uri": "https://localhost:8080/"
    },
    "id": "9WlMpXV00qlA",
    "outputId": "377d60f4-0e4d-4fb6-dbfe-0d41a7dc5f4d"
   },
   "outputs": [
    {
     "name": "stdout",
     "output_type": "stream",
     "text": [
      "Enter temperature : 20.8\n"
     ]
    },
    {
     "ename": "KeyboardInterrupt",
     "evalue": "Interrupted by user",
     "output_type": "error",
     "traceback": [
      "\u001b[1;31m---------------------------------------------------------------------------\u001b[0m",
      "\u001b[1;31mKeyboardInterrupt\u001b[0m                         Traceback (most recent call last)",
      "\u001b[1;32m<ipython-input-27-46caf457ffc3>\u001b[0m in \u001b[0;36m<module>\u001b[1;34m\u001b[0m\n\u001b[0;32m      1\u001b[0m \u001b[1;31m#temperature   humidity        ph    rainfall\u001b[0m\u001b[1;33m\u001b[0m\u001b[1;33m\u001b[0m\u001b[0m\n\u001b[0;32m      2\u001b[0m \u001b[0mtemp\u001b[0m \u001b[1;33m=\u001b[0m \u001b[0mfloat\u001b[0m\u001b[1;33m(\u001b[0m\u001b[0minput\u001b[0m\u001b[1;33m(\u001b[0m\u001b[1;34m'Enter temperature : '\u001b[0m\u001b[1;33m)\u001b[0m\u001b[1;33m)\u001b[0m\u001b[1;33m\u001b[0m\u001b[0m\n\u001b[1;32m----> 3\u001b[1;33m \u001b[0mhum\u001b[0m \u001b[1;33m=\u001b[0m \u001b[0mfloat\u001b[0m\u001b[1;33m(\u001b[0m\u001b[0minput\u001b[0m\u001b[1;33m(\u001b[0m\u001b[1;34m'Enter humidity : '\u001b[0m\u001b[1;33m)\u001b[0m\u001b[1;33m)\u001b[0m\u001b[1;33m\u001b[0m\u001b[0m\n\u001b[0m\u001b[0;32m      4\u001b[0m \u001b[0mph\u001b[0m \u001b[1;33m=\u001b[0m \u001b[0mfloat\u001b[0m\u001b[1;33m(\u001b[0m\u001b[0minput\u001b[0m\u001b[1;33m(\u001b[0m\u001b[1;34m'Enter pH : '\u001b[0m\u001b[1;33m)\u001b[0m\u001b[1;33m)\u001b[0m\u001b[1;33m\u001b[0m\u001b[0m\n\u001b[0;32m      5\u001b[0m \u001b[0mrainfall\u001b[0m \u001b[1;33m=\u001b[0m \u001b[0mfloat\u001b[0m\u001b[1;33m(\u001b[0m\u001b[0minput\u001b[0m\u001b[1;33m(\u001b[0m\u001b[1;34m'Enter rainfall : '\u001b[0m\u001b[1;33m)\u001b[0m\u001b[1;33m)\u001b[0m\u001b[1;33m\u001b[0m\u001b[0m\n",
      "\u001b[1;32mC:\\Softwares\\Anaconda3\\envs\\crop_pred\\lib\\site-packages\\ipykernel\\kernelbase.py\u001b[0m in \u001b[0;36mraw_input\u001b[1;34m(self, prompt)\u001b[0m\n\u001b[0;32m    861\u001b[0m             \u001b[0mself\u001b[0m\u001b[1;33m.\u001b[0m\u001b[0m_parent_ident\u001b[0m\u001b[1;33m,\u001b[0m\u001b[1;33m\u001b[0m\u001b[0m\n\u001b[0;32m    862\u001b[0m             \u001b[0mself\u001b[0m\u001b[1;33m.\u001b[0m\u001b[0m_parent_header\u001b[0m\u001b[1;33m,\u001b[0m\u001b[1;33m\u001b[0m\u001b[0m\n\u001b[1;32m--> 863\u001b[1;33m             \u001b[0mpassword\u001b[0m\u001b[1;33m=\u001b[0m\u001b[1;32mFalse\u001b[0m\u001b[1;33m,\u001b[0m\u001b[1;33m\u001b[0m\u001b[0m\n\u001b[0m\u001b[0;32m    864\u001b[0m         )\n\u001b[0;32m    865\u001b[0m \u001b[1;33m\u001b[0m\u001b[0m\n",
      "\u001b[1;32mC:\\Softwares\\Anaconda3\\envs\\crop_pred\\lib\\site-packages\\ipykernel\\kernelbase.py\u001b[0m in \u001b[0;36m_input_request\u001b[1;34m(self, prompt, ident, parent, password)\u001b[0m\n\u001b[0;32m    902\u001b[0m             \u001b[1;32mexcept\u001b[0m \u001b[0mKeyboardInterrupt\u001b[0m\u001b[1;33m:\u001b[0m\u001b[1;33m\u001b[0m\u001b[0m\n\u001b[0;32m    903\u001b[0m                 \u001b[1;31m# re-raise KeyboardInterrupt, to truncate traceback\u001b[0m\u001b[1;33m\u001b[0m\u001b[1;33m\u001b[0m\u001b[0m\n\u001b[1;32m--> 904\u001b[1;33m                 \u001b[1;32mraise\u001b[0m \u001b[0mKeyboardInterrupt\u001b[0m\u001b[1;33m(\u001b[0m\u001b[1;34m\"Interrupted by user\"\u001b[0m\u001b[1;33m)\u001b[0m \u001b[1;32mfrom\u001b[0m \u001b[1;32mNone\u001b[0m\u001b[1;33m\u001b[0m\u001b[0m\n\u001b[0m\u001b[0;32m    905\u001b[0m             \u001b[1;32mexcept\u001b[0m \u001b[0mException\u001b[0m \u001b[1;32mas\u001b[0m \u001b[0me\u001b[0m\u001b[1;33m:\u001b[0m\u001b[1;33m\u001b[0m\u001b[0m\n\u001b[0;32m    906\u001b[0m                 \u001b[0mself\u001b[0m\u001b[1;33m.\u001b[0m\u001b[0mlog\u001b[0m\u001b[1;33m.\u001b[0m\u001b[0mwarning\u001b[0m\u001b[1;33m(\u001b[0m\u001b[1;34m\"Invalid Message:\"\u001b[0m\u001b[1;33m,\u001b[0m \u001b[0mexc_info\u001b[0m\u001b[1;33m=\u001b[0m\u001b[1;32mTrue\u001b[0m\u001b[1;33m)\u001b[0m\u001b[1;33m\u001b[0m\u001b[0m\n",
      "\u001b[1;31mKeyboardInterrupt\u001b[0m: Interrupted by user"
     ]
    }
   ],
   "source": [
    "#temperature   humidity        ph    rainfall\n",
    "temp = float(input('Enter temperature : '))\n",
    "hum = float(input('Enter humidity : '))\n",
    "ph = float(input('Enter pH : '))\n",
    "rainfall = float(input('Enter rainfall : '))\n",
    "\n",
    "crop = data_copy.columns[np.argmax(clf.predict([[temp,hum,ph,rainfall]])[0]) + 4]\n",
    "print('Most beneficial Crop :', crop)"
   ]
  },
  {
   "cell_type": "markdown",
   "metadata": {
    "id": "6iR36bRN2usV"
   },
   "source": [
    "# Most Beneficial Fertilizer Recommendation"
   ]
  },
  {
   "cell_type": "code",
   "execution_count": 111,
   "metadata": {},
   "outputs": [],
   "source": [
    "import tensorflow as tf \n",
    "import os"
   ]
  },
  {
   "cell_type": "code",
   "execution_count": 112,
   "metadata": {},
   "outputs": [],
   "source": [
    "import numpy as np\n",
    "import pandas as pd\n",
    "import matplotlib.pyplot as plt\n",
    "from sklearn.model_selection import train_test_split"
   ]
  },
  {
   "cell_type": "code",
   "execution_count": 113,
   "metadata": {},
   "outputs": [],
   "source": [
    "xin = tf.placeholder('float',[None, 9])\n",
    "yin = tf.placeholder('float')\n",
    "\n",
    "# read dataset\n",
    "\n",
    "df = pd.read_csv('fertestimate.csv') \n",
    "x = df.drop('class',1) \n",
    "y = df['class']"
   ]
  },
  {
   "cell_type": "code",
   "execution_count": 114,
   "metadata": {},
   "outputs": [],
   "source": [
    "from numpy import array\n",
    "from numpy import argmax\n",
    "from sklearn.preprocessing import LabelEncoder\n",
    "from sklearn.preprocessing import OneHotEncoder"
   ]
  },
  {
   "cell_type": "code",
   "execution_count": 115,
   "metadata": {},
   "outputs": [
    {
     "name": "stderr",
     "output_type": "stream",
     "text": [
      "C:\\Softwares\\Anaconda3\\envs\\crop_pred\\lib\\site-packages\\sklearn\\preprocessing\\_encoders.py:414: FutureWarning: The handling of integer data will change in version 0.22. Currently, the categories are determined based on the range [0, max(values)], while in the future they will be determined based on the unique values.\n",
      "If you want the future behaviour and silence this warning, you can specify \"categories='auto'\".\n",
      "In case you used a LabelEncoder before this OneHotEncoder to convert the categories to integers, then you can now use the OneHotEncoder directly.\n",
      "  warnings.warn(msg, FutureWarning)\n"
     ]
    }
   ],
   "source": [
    "\n",
    "values = array(y)\n",
    "\n",
    "# integer encode\n",
    "\n",
    "label_encoder = LabelEncoder()\n",
    "integer_encoded = label_encoder.fit_transform(values)\n",
    "\n",
    "# binary encode\n",
    "\n",
    "onehot_encoder = OneHotEncoder(sparse=False)\n",
    "integer_encoded = integer_encoded.reshape(len(integer_encoded), 1)\n",
    "y = onehot_encoder.fit_transform(integer_encoded)\n",
    "\n",
    "x_train, x_test,y_train,y_test = train_test_split(x,y,test_size=0.3,shuffle='false') "
   ]
  },
  {
   "cell_type": "code",
   "execution_count": 116,
   "metadata": {},
   "outputs": [],
   "source": [
    "# neural network parameters\t\n",
    "\n",
    "n_nodes_hl1 = 64\n",
    "n_nodes_hl2 = 128\n",
    "n_nodes_hl3 = 64\n",
    "n_classes = 4\n",
    "batch_size = 100\n",
    "data_index = 0"
   ]
  },
  {
   "cell_type": "code",
   "execution_count": 117,
   "metadata": {},
   "outputs": [],
   "source": [
    "# generate batch \n",
    "\n",
    "def generate_batch(batch_size):\n",
    "    global data_index\n",
    "    batch = np.ndarray(shape=(batch_size, 9), dtype=np.float32)  #the same shapes as train data\n",
    "    labels = np.ndarray(shape=(batch_size, 4), dtype=np.float32)\n",
    "    for i in range(batch_size):\n",
    "        batch[i] = np.array(x_train)[data_index]\n",
    "        labels[i] = y_train[data_index]\n",
    "        data_index = (data_index + 1) % len(x_train)\n",
    "    return batch, labels"
   ]
  },
  {
   "cell_type": "code",
   "execution_count": 118,
   "metadata": {},
   "outputs": [],
   "source": [
    "# define the model\n",
    "\n",
    "def neural_network_model(data):\n",
    "    # input data* weights + bias \n",
    "    hidden_1_layer = {'weights': tf.Variable(tf.random_normal([9, n_nodes_hl1])),\n",
    "                        'biases': tf.Variable(tf.random_normal([n_nodes_hl1]))}\n",
    "\n",
    "    hidden_2_layer = {'weights': tf.Variable(tf.random_normal([n_nodes_hl1, n_nodes_hl2])),\n",
    "                        'biases': tf.Variable(tf.random_normal([n_nodes_hl2]))}\n",
    "\n",
    "    hidden_3_layer = {'weights': tf.Variable(tf.random_normal([n_nodes_hl2, n_nodes_hl3])),\n",
    "                        'biases': tf.Variable(tf.random_normal([n_nodes_hl3]))}\n",
    "\n",
    "    output_layer = {'weights': tf.Variable(tf.random_normal([n_nodes_hl3, n_classes])),\n",
    "                        'biases': tf.Variable(tf.random_normal([n_classes]))}\n",
    "\n",
    "    l1 = tf.add(tf.matmul(data, hidden_1_layer['weights']) , hidden_1_layer['biases'])\n",
    "    l1 = tf.nn.relu(l1) # rectified linear --> activation function\n",
    "\n",
    "    l2 = tf.add(tf.matmul(l1, hidden_2_layer['weights']) , hidden_2_layer['biases'])\n",
    "    l2 = tf.nn.relu(l2)\n",
    "\n",
    "    l3 = tf.add(tf.matmul(l2, hidden_3_layer['weights']) , hidden_3_layer['biases'])\n",
    "    l3 = tf.nn.relu(l3)\n",
    "\n",
    "    output = tf.matmul(l3, output_layer['weights']) + output_layer['biases']\n",
    "\n",
    "    return output "
   ]
  },
  {
   "cell_type": "code",
   "execution_count": 119,
   "metadata": {},
   "outputs": [],
   "source": [
    "# train neural network\n",
    "\n",
    "def train_neural_network(xin): \n",
    "    prediction = neural_network_model(xin) \n",
    "    cost = tf.reduce_mean(tf.nn.softmax_cross_entropy_with_logits(labels=yin,logits=prediction))\n",
    "\n",
    "    optimizer =  tf.train.AdamOptimizer(0.001).minimize(cost) #learning rate = 0.001\n",
    "\n",
    "    hm_epochs = 20 \n",
    "    eploss = []\n",
    "    with tf.Session() as sess: \n",
    "        sess.run(tf.initialize_all_variables()) \n",
    "\n",
    "        for epoch in range(hm_epochs): \n",
    "            epoch_loss = 0 \n",
    "            for _ in range(int(len(x_train)/batch_size)) : \n",
    "                epoch_x,epoch_y = generate_batch(batch_size) \n",
    "                _,c = sess.run([optimizer,cost], feed_dict={xin:epoch_x, yin:epoch_y}) \n",
    "                epoch_loss += c\n",
    "            print('Epoch',epoch,'completed out of', hm_epochs, 'loss: ', epoch_loss)\n",
    "            eploss.append(epoch_loss)     \n",
    "\n",
    "        correct = tf.equal(tf.argmax(prediction,1), tf.argmax(yin,1)) \n",
    "\n",
    "        accuracy = tf.reduce_mean(tf.cast(correct,'float')) \n",
    "        a = float(accuracy.eval({xin:x_test, yin:y_test}))\n",
    "        print('accuracy: ', a*100,'%') \n",
    "        # predict an output\n",
    "\n",
    "        predict = tf.argmax(prediction,1)\n",
    "        example = np.array([0.05,0.01,0.01,0.01,0.02,0.01,0.03,0.01,0.01])\n",
    "        example = example.reshape(-1,len(example))\n",
    "        predict = predict.eval({xin:example})\n",
    "        print(\"prediction : Fertilizer\", label_encoder.inverse_transform(predict))\n",
    "        \n",
    "        #plot loss vs no. of epochs\n",
    "\n",
    "        plt.figure()\n",
    "        plt.subplot(2,2,1)\n",
    "        plt.plot(eploss)\n",
    "        plt.ylabel('Loss')\n",
    "        plt.xlabel('Number of epochs')\n",
    "        plt.subplot(2,2,1)\n",
    "        plt.plot()\n",
    "        plt.title('Loss vs Number of epochs')\n",
    "        plt.ylabel('Loss')\n",
    "        plt.xlabel('Number of epochs')\n",
    "        plt.show()"
   ]
  },
  {
   "cell_type": "code",
   "execution_count": 120,
   "metadata": {},
   "outputs": [
    {
     "name": "stdout",
     "output_type": "stream",
     "text": [
      "Epoch 0 completed out of 20 loss:  1659.4805755615234\n",
      "Epoch 1 completed out of 20 loss:  441.3720483779907\n",
      "Epoch 2 completed out of 20 loss:  193.34368991851807\n",
      "Epoch 3 completed out of 20 loss:  126.6965103149414\n",
      "Epoch 4 completed out of 20 loss:  112.05246210098267\n",
      "Epoch 5 completed out of 20 loss:  103.72900462150574\n",
      "Epoch 6 completed out of 20 loss:  91.89268016815186\n",
      "Epoch 7 completed out of 20 loss:  85.90711784362793\n",
      "Epoch 8 completed out of 20 loss:  79.64293336868286\n",
      "Epoch 9 completed out of 20 loss:  72.33458936214447\n",
      "Epoch 10 completed out of 20 loss:  67.17194044589996\n",
      "Epoch 11 completed out of 20 loss:  64.94717049598694\n",
      "Epoch 12 completed out of 20 loss:  58.9133198261261\n",
      "Epoch 13 completed out of 20 loss:  58.017539620399475\n",
      "Epoch 14 completed out of 20 loss:  54.12311366200447\n",
      "Epoch 15 completed out of 20 loss:  52.099132657051086\n",
      "Epoch 16 completed out of 20 loss:  48.95827567577362\n",
      "Epoch 17 completed out of 20 loss:  43.81526052951813\n",
      "Epoch 18 completed out of 20 loss:  44.6748993396759\n",
      "Epoch 19 completed out of 20 loss:  41.683428049087524\n",
      "accuracy:  89.58333134651184 %\n",
      "prediction : Fertilizer [3]\n"
     ]
    },
    {
     "name": "stderr",
     "output_type": "stream",
     "text": [
      "C:\\Softwares\\Anaconda3\\envs\\crop_pred\\lib\\site-packages\\ipykernel_launcher.py:43: MatplotlibDeprecationWarning: Adding an axes using the same arguments as a previous axes currently reuses the earlier instance.  In a future version, a new instance will always be created and returned.  Meanwhile, this warning can be suppressed, and the future behavior ensured, by passing a unique label to each axes instance.\n"
     ]
    },
    {
     "data": {
      "image/png": "[encoded data removed]",
      "text/plain": [
       "<Figure size 432x288 with 1 Axes>"
      ]
     },
     "metadata": {
      "needs_background": "light"
     },
     "output_type": "display_data"
    }
   ],
   "source": [
    "train_neural_network(xin)  "
   ]
  },
  {
   "cell_type": "code",
   "execution_count": null,
   "metadata": {},
   "outputs": [],
   "source": []
  },
  {
   "cell_type": "code",
   "execution_count": 104,
   "metadata": {},
   "outputs": [],
   "source": [
    "fert_data = pd.read_csv('fertestimate.csv')\n",
    "y = fert_data['class']\n",
    "fert_data.drop('class',1,inplace = True)"
   ]
  },
  {
   "cell_type": "code",
   "execution_count": 108,
   "metadata": {},
   "outputs": [],
   "source": [
    "from sklearn.model_selection import train_test_split\n",
    "X_train, X_test, y_train, y_test = train_test_split(fert_data.iloc[:,:], y, test_size = 0.250)"
   ]
  },
  {
   "cell_type": "code",
   "execution_count": 109,
   "metadata": {},
   "outputs": [],
   "source": [
    "from sklearn.svm import SVC\n"
   ]
  },
  {
   "cell_type": "code",
   "execution_count": 103,
   "metadata": {},
   "outputs": [
    {
     "name": "stdout",
     "output_type": "stream",
     "text": [
      "ACCURACY OF THE MODEL:  0.984375\n",
      "ACCURACY OF THE MODEL:  0.9796716184519155\n"
     ]
    },
    {
     "name": "stderr",
     "output_type": "stream",
     "text": [
      "C:\\Softwares\\Anaconda3\\envs\\crop_pred\\lib\\site-packages\\sklearn\\svm\\base.py:193: FutureWarning: The default value of gamma will change from 'auto' to 'scale' in version 0.22 to account better for unscaled features. Set gamma explicitly to 'auto' or 'scale' to avoid this warning.\n",
      "  \"avoid this warning.\", FutureWarning)\n"
     ]
    }
   ],
   "source": [
    "# creating a RF classifier\n",
    "clf2 = SVC()\n",
    "\n",
    "# Training the model on the training dataset\n",
    "# fit function is used to train the model using the training sets as parameters\n",
    "clf2.fit(X_train, y_train)\n",
    "\n",
    "# performing predictions on the test dataset\n",
    "y_pred = clf2.predict(X_test)\n",
    "\n",
    "# metrics are used to find accuracy or error\n",
    "from sklearn import metrics\n",
    "\n",
    "# using metrics module for accuracy calculation\n",
    "print(\"ACCURACY OF THE MODEL: \", metrics.accuracy_score(y_test, y_pred))\n",
    "print(\"ACCURACY OF THE MODEL: \", metrics.accuracy_score(y_train, clf.predict(X_train)))"
   ]
  },
  {
   "cell_type": "code",
   "execution_count": 110,
   "metadata": {},
   "outputs": [],
   "source": [
    "import pickle\n",
    "pickle.dump(clf2,open('random_forest_model.pkl','wb'))"
   ]
  },
  {
   "cell_type": "code",
   "execution_count": 122,
   "metadata": {},
   "outputs": [
    {
     "data": {
      "text/plain": [
       "2"
      ]
     },
     "execution_count": 122,
     "metadata": {},
     "output_type": "execute_result"
    }
   ],
   "source": [
    "clf2.predict([np.array([0.05,0.01,0.01,0.01,0.02,0.01,0.03,0.01,0.01])])[0]"
   ]
  },
  {
   "cell_type": "code",
   "execution_count": null,
   "metadata": {},
   "outputs": [],
   "source": []
  }
 ],
 "metadata": {
  "colab": {
   "collapsed_sections": [],
   "name": "Crop Prediction.ipynb",
   "provenance": []
  },
  "kernelspec": {
   "display_name": "Python 3",
   "language": "python",
   "name": "python3"
  },
  "language_info": {
   "codemirror_mode": {
    "name": "ipython",
    "version": 3
   },
   "file_extension": ".py",
   "mimetype": "text/x-python",
   "name": "python",
   "nbconvert_exporter": "python",
   "pygments_lexer": "ipython3",
   "version": "3.7.4"
  }
 },
 "nbformat": 4,
 "nbformat_minor": 4
}
